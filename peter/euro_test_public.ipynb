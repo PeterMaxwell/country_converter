{
 "cells": [
  {
   "cell_type": "code",
   "execution_count": 73,
   "metadata": {},
   "outputs": [],
   "source": [
    "import sys\n",
    "\n",
    "# set path\n",
    "sys.path.append('../')\n",
    "\n",
    "import pandas as pd\n",
    "import country_converter as coco"
   ]
  },
  {
   "cell_type": "code",
   "execution_count": 74,
   "metadata": {},
   "outputs": [],
   "source": [
    "cc = coco.CountryConverter()"
   ]
  },
  {
   "cell_type": "code",
   "execution_count": 75,
   "metadata": {},
   "outputs": [],
   "source": [
    "lst_euro_countries = ['Austria', 'Belgium', 'Croatia', 'Cyprus', 'Estonia',\n",
    "                'Finland', 'France', 'Germany', 'Greece', 'Ireland', 'Italy', 'Latvia', 'Lithuania',\n",
    "                'Luxembourg', 'Malta', 'Netherlands', 'Portugal', 'Slovakia', 'Slovenia', 'Spain']\n",
    "pds_euro_countries = pd.Series(lst_euro_countries)\n",
    "lst_mix_countries = lst_euro_countries + ['Norway', 'Vietnam', 'Belize']\n",
    "pds_mix_countries = pd.Series(lst_mix_countries)"
   ]
  },
  {
   "cell_type": "code",
   "execution_count": 76,
   "metadata": {},
   "outputs": [],
   "source": [
    "euro_years_from_lst = cc.convert(names=lst_euro_countries, to='EURO')\n",
    "euro_years_from_pds = cc.pandas_convert(series=pds_euro_countries, to='EURO')\n",
    "mix_years_from_lst = cc.convert(names=lst_mix_countries, to='EURO')\n",
    "mix_years_from_pds = cc.pandas_convert(series=pds_mix_countries, to='EURO')"
   ]
  },
  {
   "cell_type": "code",
   "execution_count": 77,
   "metadata": {},
   "outputs": [
    {
     "name": "stdout",
     "output_type": "stream",
     "text": [
      "[1999, 1999, 2023, 2008, 2011, 1999, 1999, 1999, 2001, 1999, 1999, 2014, 2015, 1999, 2008, 1999, 1999, 2009, 2007, 1999]\n",
      "Type: <class 'list'>\n",
      "Element type (from first element): <class 'int'>\n",
      "Element type (from last element): <class 'int'>\n"
     ]
    }
   ],
   "source": [
    "# Euro countries from list\n",
    "print(euro_years_from_lst)\n",
    "print(\"Type: \" + str(type(euro_years_from_lst)))\n",
    "print(\"Element type (from first element): \" + str(type(euro_years_from_lst[0])))\n",
    "print(\"Element type (from last element): \" + str(type(euro_years_from_lst[-1])))"
   ]
  },
  {
   "cell_type": "code",
   "execution_count": 78,
   "metadata": {},
   "outputs": [
    {
     "name": "stdout",
     "output_type": "stream",
     "text": [
      "0     1999\n",
      "1     1999\n",
      "2     2023\n",
      "3     2008\n",
      "4     2011\n",
      "5     1999\n",
      "6     1999\n",
      "7     1999\n",
      "8     2001\n",
      "9     1999\n",
      "10    1999\n",
      "11    2014\n",
      "12    2015\n",
      "13    1999\n",
      "14    2008\n",
      "15    1999\n",
      "16    1999\n",
      "17    2009\n",
      "18    2007\n",
      "19    1999\n",
      "dtype: int64\n",
      "Type: <class 'pandas.core.series.Series'>\n",
      "Element Type (from first element): <class 'numpy.int64'>\n",
      "Element Type (from last element): <class 'numpy.int64'>\n",
      "Element (from dtype): int64\n"
     ]
    }
   ],
   "source": [
    "# Euro countries from Pandas series\n",
    "print(euro_years_from_pds)\n",
    "print(\"Type: \" + str(type(euro_years_from_pds)))\n",
    "print(\"Element Type (from first element): \" + str(type(euro_years_from_pds.iloc[0])))\n",
    "print(\"Element Type (from last element): \" + str(type(euro_years_from_pds.iloc[-1])))\n",
    "print(\"Element (from dtype): \" + str(euro_years_from_pds.dtype))"
   ]
  },
  {
   "cell_type": "code",
   "execution_count": 79,
   "metadata": {},
   "outputs": [
    {
     "name": "stdout",
     "output_type": "stream",
     "text": [
      "[1999, 1999, 2023, 2008, 2011, 1999, 1999, 1999, 2001, 1999, 1999, 2014, 2015, 1999, 2008, 1999, 1999, 2009, 2007, 1999, nan, nan, nan]\n",
      "Type: <class 'list'>\n",
      "Element type (from first element): <class 'int'>\n",
      "Element type (from last element): <class 'numpy.float64'>\n"
     ]
    }
   ],
   "source": [
    "# Mix countries from list\n",
    "print(mix_years_from_lst)\n",
    "print(\"Type: \" + str(type(mix_years_from_lst)))\n",
    "print(\"Element type (from first element): \" + str(type(mix_years_from_lst[0])))\n",
    "print(\"Element type (from last element): \" + str(type(mix_years_from_lst[-1])))"
   ]
  },
  {
   "cell_type": "code",
   "execution_count": 80,
   "metadata": {},
   "outputs": [
    {
     "name": "stdout",
     "output_type": "stream",
     "text": [
      "0        1999.0\n",
      "1        1999.0\n",
      "2        2023.0\n",
      "3        2008.0\n",
      "4        2011.0\n",
      "5        1999.0\n",
      "6        1999.0\n",
      "7        1999.0\n",
      "8        2001.0\n",
      "9        1999.0\n",
      "10       1999.0\n",
      "11       2014.0\n",
      "12       2015.0\n",
      "13       1999.0\n",
      "14       2008.0\n",
      "15       1999.0\n",
      "16       1999.0\n",
      "17       2009.0\n",
      "18       2007.0\n",
      "19       1999.0\n",
      "20    not found\n",
      "21    not found\n",
      "22    not found\n",
      "dtype: object\n",
      "Type: <class 'pandas.core.series.Series'>\n",
      "Element Type (from first element): <class 'float'>\n",
      "Element Type (from last element): <class 'str'>\n",
      "Element (from dtype): object\n"
     ]
    }
   ],
   "source": [
    "# Mix countries from Pandas series\n",
    "print(mix_years_from_pds)\n",
    "print(\"Type: \" + str(type(mix_years_from_pds)))\n",
    "print(\"Element Type (from first element): \" + str(type(mix_years_from_pds.iloc[0])))\n",
    "print(\"Element Type (from last element): \" + str(type(mix_years_from_pds.iloc[-1])))\n",
    "print(\"Element (from dtype): \" + str(mix_years_from_pds.dtype))"
   ]
  },
  {
   "cell_type": "code",
   "execution_count": null,
   "metadata": {},
   "outputs": [],
   "source": []
  }
 ],
 "metadata": {
  "kernelspec": {
   "display_name": "coco_dev",
   "language": "python",
   "name": "python3"
  },
  "language_info": {
   "codemirror_mode": {
    "name": "ipython",
    "version": 3
   },
   "file_extension": ".py",
   "mimetype": "text/x-python",
   "name": "python",
   "nbconvert_exporter": "python",
   "pygments_lexer": "ipython3",
   "version": "3.11.0"
  },
  "orig_nbformat": 4,
  "vscode": {
   "interpreter": {
    "hash": "3961a7b18e4f0ce328f5006c28f34eb5a469ac2630603a60931fc5e83630d31c"
   }
  }
 },
 "nbformat": 4,
 "nbformat_minor": 2
}

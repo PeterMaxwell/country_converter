{
 "cells": [
  {
   "cell_type": "code",
   "execution_count": 3,
   "metadata": {},
   "outputs": [],
   "source": [
    "import sys\n",
    "\n",
    "# set path\n",
    "sys.path.append('../')\n",
    "\n",
    "import pandas as pd\n",
    "import country_converter as coco"
   ]
  },
  {
   "cell_type": "code",
   "execution_count": 4,
   "metadata": {},
   "outputs": [],
   "source": [
    "cc = coco.CountryConverter()"
   ]
  },
  {
   "cell_type": "code",
   "execution_count": 20,
   "metadata": {},
   "outputs": [
    {
     "name": "stdout",
     "output_type": "stream",
     "text": [
      "[1999, 1999, nan, 2008, 2011, 1999, 1999, 1999, 2001, 1999, 1999, 2014, 2015, 1999, 2008, 1999, 1999, 2009, 1999]\n"
     ]
    }
   ],
   "source": [
    "lst_euro_countries = ['Austria', 'Belgium', 'Croatia', 'Cyprus', 'Estonia',\n",
    "                'Finland', 'France', 'Germany', 'Greece', 'Ireland', 'Italy', 'Latvia', 'Lithuania',\n",
    "                'Luxembourg', 'Malta', 'Netherlands', 'Portugal', 'Slovakia', 'Spain']\n",
    "lst_euro_years = cc.convert(names=lst_euro_countries, to='EURO')\n",
    "print(euro_names)"
   ]
  },
  {
   "cell_type": "code",
   "execution_count": 21,
   "metadata": {},
   "outputs": [
    {
     "name": "stdout",
     "output_type": "stream",
     "text": [
      "<class 'int'>\n"
     ]
    }
   ],
   "source": [
    "print(type(euro_names[1]))"
   ]
  },
  {
   "cell_type": "code",
   "execution_count": 24,
   "metadata": {},
   "outputs": [],
   "source": [
    "pds_euro_countries = pd.Series(list_euro)\n",
    "euro_years_from_pds = cc.pandas_convert(series=pds_euro_countries, to='EURO')"
   ]
  },
  {
   "cell_type": "code",
   "execution_count": 25,
   "metadata": {},
   "outputs": [
    {
     "name": "stdout",
     "output_type": "stream",
     "text": [
      "0        1999.0\n",
      "1        1999.0\n",
      "2     not found\n",
      "3        2008.0\n",
      "4        2011.0\n",
      "5        1999.0\n",
      "6        1999.0\n",
      "7        1999.0\n",
      "8        2001.0\n",
      "9        1999.0\n",
      "10       1999.0\n",
      "11       2014.0\n",
      "12       2015.0\n",
      "13       1999.0\n",
      "14       2008.0\n",
      "15       1999.0\n",
      "16       1999.0\n",
      "17       2009.0\n",
      "18       1999.0\n",
      "dtype: object\n",
      "<class 'float'>\n"
     ]
    }
   ],
   "source": [
    "print(euro_years_from_pds)\n",
    "print(type(euro_years_from_pds[0]))"
   ]
  },
  {
   "cell_type": "code",
   "execution_count": null,
   "metadata": {},
   "outputs": [],
   "source": []
  }
 ],
 "metadata": {
  "kernelspec": {
   "display_name": "coco_dev",
   "language": "python",
   "name": "python3"
  },
  "language_info": {
   "codemirror_mode": {
    "name": "ipython",
    "version": 3
   },
   "file_extension": ".py",
   "mimetype": "text/x-python",
   "name": "python",
   "nbconvert_exporter": "python",
   "pygments_lexer": "ipython3",
   "version": "3.11.0"
  },
  "orig_nbformat": 4,
  "vscode": {
   "interpreter": {
    "hash": "3961a7b18e4f0ce328f5006c28f34eb5a469ac2630603a60931fc5e83630d31c"
   }
  }
 },
 "nbformat": 4,
 "nbformat_minor": 2
}

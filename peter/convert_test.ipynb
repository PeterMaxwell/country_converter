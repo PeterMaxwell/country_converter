{
 "cells": [
  {
   "cell_type": "code",
   "execution_count": 1,
   "metadata": {},
   "outputs": [],
   "source": [
    "import sys\n",
    "\n",
    "# set path\n",
    "sys.path.append('../')\n",
    "\n",
    "import importlib\n",
    "\n",
    "import country_converter as coco"
   ]
  },
  {
   "cell_type": "code",
   "execution_count": 2,
   "metadata": {},
   "outputs": [],
   "source": [
    "some_names = ['United Rep. of Tanzania', 'Cape Verde', 'Burma',\n",
    "              'Iran (Islamic Republic of)', 'Korea, Republic of',\n",
    "              \"Dem. People's Rep. of Korea\", \"Republic France\", \"UK\"]"
   ]
  },
  {
   "cell_type": "code",
   "execution_count": 3,
   "metadata": {},
   "outputs": [
    {
     "data": {
      "text/plain": [
       "<module 'country_converter.country_converter' from '/home/peterma/indecol/country_converter/peter/../country_converter/country_converter.py'>"
      ]
     },
     "execution_count": 3,
     "metadata": {},
     "output_type": "execute_result"
    }
   ],
   "source": [
    "importlib.reload(coco)\n",
    "importlib.reload(coco.country_converter)\n"
   ]
  },
  {
   "cell_type": "code",
   "execution_count": 4,
   "metadata": {},
   "outputs": [],
   "source": [
    "cc = None\n",
    "cc = coco.CountryConverter()\n",
    "std_names = cc.convert(names=some_names, to='name_short')"
   ]
  },
  {
   "cell_type": "code",
   "execution_count": 5,
   "metadata": {},
   "outputs": [
    {
     "data": {
      "text/plain": [
       "['Tanzania',\n",
       " 'Cabo Verde',\n",
       " 'Myanmar',\n",
       " 'Iran',\n",
       " 'South Korea',\n",
       " 'North Korea',\n",
       " 'France',\n",
       " 'United Kingdom']"
      ]
     },
     "execution_count": 5,
     "metadata": {},
     "output_type": "execute_result"
    }
   ],
   "source": [
    "std_names"
   ]
  },
  {
   "cell_type": "code",
   "execution_count": 16,
   "metadata": {},
   "outputs": [],
   "source": [
    "import pandas as pd"
   ]
  },
  {
   "cell_type": "code",
   "execution_count": 17,
   "metadata": {},
   "outputs": [],
   "source": [
    "df = pd.read_csv(\"../country_converter/country_data.tsv\", sep=\"\\t\", encoding=\"utf-8\")"
   ]
  },
  {
   "cell_type": "code",
   "execution_count": 9,
   "metadata": {},
   "outputs": [],
   "source": [
    "def print_full(x):\n",
    "    pd.set_option('display.max_rows', len(x))\n",
    "    print(x)\n",
    "    pd.reset_option('display.max_rows')"
   ]
  },
  {
   "cell_type": "code",
   "execution_count": 10,
   "metadata": {},
   "outputs": [
    {
     "name": "stdout",
     "output_type": "stream",
     "text": [
      "name_short        object\n",
      "name_official     object\n",
      "regex             object\n",
      "ISO2              object\n",
      "ISO3              object\n",
      "ISOnumeric       float64\n",
      "UNcode           float64\n",
      "FAOcode          float64\n",
      "GBDcode          float64\n",
      "continent         object\n",
      "UNregion          object\n",
      "EXIO1             object\n",
      "EXIO2             object\n",
      "EXIO3             object\n",
      "EXIO1_3L          object\n",
      "EXIO2_3L          object\n",
      "EXIO3_3L          object\n",
      "WIOD              object\n",
      "Eora              object\n",
      "MESSAGE           object\n",
      "IMAGE             object\n",
      "REMIND            object\n",
      "OECD             float64\n",
      "EU                object\n",
      "EU28              object\n",
      "EU27              object\n",
      "EU27_2007         object\n",
      "EU25              object\n",
      "EU15              object\n",
      "EU12              object\n",
      "EEA               object\n",
      "Schengen          object\n",
      "EURO             float64\n",
      "UN               float64\n",
      "UNmember         float64\n",
      "obsolete         float64\n",
      "Cecilia2050       object\n",
      "BRIC              object\n",
      "APEC              object\n",
      "BASIC             object\n",
      "CIS               object\n",
      "G7                object\n",
      "G20               object\n",
      "IEA               object\n",
      "DACcode          float64\n",
      "ccTLD             object\n",
      "GWcode           float64\n",
      "dtype: object\n"
     ]
    }
   ],
   "source": [
    "print_full(df.dtypes)"
   ]
  },
  {
   "cell_type": "code",
   "execution_count": 9,
   "metadata": {},
   "outputs": [
    {
     "name": "stdout",
     "output_type": "stream",
     "text": [
      "[1999, 1999, nan, 2008, 2011, 1999, 1999, 1999, 2001, 1999, 1999, 2014, 2015, 1999, 2008, 1999, 1999, 2009, 1999]\n"
     ]
    }
   ],
   "source": [
    "list_euro = ['Austria', 'Belgium', 'Croatia', 'Cyprus', 'Estonia',\n",
    "                'Finland', 'France', 'Germany', 'Greece', 'Ireland', 'Italy', 'Latvia', 'Lithuania',\n",
    "                'Luxembourg', 'Malta', 'Netherlands', 'Portugal', 'Slovakia', 'Spain']\n",
    "euro_names = cc.convert(names=list_euro, to='EURO')\n",
    "print(euro_names)"
   ]
  },
  {
   "cell_type": "code",
   "execution_count": 19,
   "metadata": {},
   "outputs": [
    {
     "data": {
      "text/plain": [
       "dtype('float64')"
      ]
     },
     "execution_count": 19,
     "metadata": {},
     "output_type": "execute_result"
    }
   ],
   "source": [
    "df.dtypes[\"EURO\"]"
   ]
  },
  {
   "cell_type": "code",
   "execution_count": 29,
   "metadata": {},
   "outputs": [
    {
     "name": "stdout",
     "output_type": "stream",
     "text": [
      "{'Austria': <class 'str'>, 'Belgium': <class 'str'>, 'Croatia': <class 'str'>, 'Cyprus': <class 'str'>, 'Estonia': <class 'str'>, 'Finland': <class 'str'>, 'France': <class 'str'>, 'Germany': <class 'str'>, 'Greece': <class 'str'>, 'Ireland': <class 'str'>, 'Italy': <class 'str'>, 'Latvia': <class 'str'>, 'Lithuania': <class 'str'>, 'Luxembourg': <class 'str'>, 'Malta': <class 'str'>, 'Netherlands': <class 'str'>, 'Portugal': <class 'str'>, 'Slovakia': <class 'str'>, 'Spain': <class 'str'>}\n"
     ]
    }
   ],
   "source": [
    "# This says setup dictionary, with each element named as the element from the list and the value being the class str\n",
    "test_syntax={str_col: str for str_col in list_euro}\n",
    "print(test_syntax)"
   ]
  },
  {
   "cell_type": "code",
   "execution_count": null,
   "metadata": {},
   "outputs": [],
   "source": []
  },
  {
   "cell_type": "code",
   "execution_count": null,
   "metadata": {},
   "outputs": [],
   "source": []
  }
 ],
 "metadata": {
  "kernelspec": {
   "display_name": "coco_dev",
   "language": "python",
   "name": "python3"
  },
  "language_info": {
   "codemirror_mode": {
    "name": "ipython",
    "version": 3
   },
   "file_extension": ".py",
   "mimetype": "text/x-python",
   "name": "python",
   "nbconvert_exporter": "python",
   "pygments_lexer": "ipython3",
   "version": "3.11.0"
  },
  "orig_nbformat": 4,
  "vscode": {
   "interpreter": {
    "hash": "c38b1cfb28fc2b4637f85c9e4d6e4655301bc70c875b8a0f5569b0c825f352a0"
   }
  }
 },
 "nbformat": 4,
 "nbformat_minor": 2
}
